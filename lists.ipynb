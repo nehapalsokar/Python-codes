{
 "cells": [
  {
   "cell_type": "code",
   "execution_count": null,
   "metadata": {
    "collapsed": true
   },
   "outputs": [],
   "source": [
    "with open('file.txt') as file:\n",
    "    for line in file:\n",
    "        print(line)\n",
    "    # stuff we want to do with that setup\n",
    "    \n",
    "filename = input(\"What file?\")\n",
    "print(\"About to open\", filename)\n",
    "with open(filename) as file:\n",
    "    # do something else with the file\n",
    "    turtle_draw()"
   ]
  },
  {
   "cell_type": "code",
   "execution_count": 1,
   "metadata": {},
   "outputs": [
    {
     "name": "stdout",
     "output_type": "stream",
     "text": [
      "What file?alice.txt\n",
      "About to open alice.txt\n"
     ]
    },
    {
     "ename": "FileNotFoundError",
     "evalue": "[Errno 2] No such file or directory: 'alice.txt'",
     "output_type": "error",
     "traceback": [
      "\u001b[0;31m---------------------------------------------------------------------------\u001b[0m",
      "\u001b[0;31mFileNotFoundError\u001b[0m                         Traceback (most recent call last)",
      "\u001b[0;32m<ipython-input-1-8a59482aa85a>\u001b[0m in \u001b[0;36m<module>\u001b[0;34m()\u001b[0m\n\u001b[1;32m      1\u001b[0m \u001b[0mfilename\u001b[0m \u001b[0;34m=\u001b[0m \u001b[0minput\u001b[0m\u001b[0;34m(\u001b[0m\u001b[0;34m\"What file?\"\u001b[0m\u001b[0;34m)\u001b[0m\u001b[0;34m\u001b[0m\u001b[0m\n\u001b[1;32m      2\u001b[0m \u001b[0mprint\u001b[0m\u001b[0;34m(\u001b[0m\u001b[0;34m\"About to open\"\u001b[0m\u001b[0;34m,\u001b[0m \u001b[0mfilename\u001b[0m\u001b[0;34m)\u001b[0m\u001b[0;34m\u001b[0m\u001b[0m\n\u001b[0;32m----> 3\u001b[0;31m \u001b[0;32mwith\u001b[0m \u001b[0mopen\u001b[0m\u001b[0;34m(\u001b[0m\u001b[0mfilename\u001b[0m\u001b[0;34m)\u001b[0m \u001b[0;32mas\u001b[0m \u001b[0mfile\u001b[0m\u001b[0;34m:\u001b[0m\u001b[0;34m\u001b[0m\u001b[0m\n\u001b[0m\u001b[1;32m      4\u001b[0m     \u001b[0;31m# do something else with the file\u001b[0m\u001b[0;34m\u001b[0m\u001b[0;34m\u001b[0m\u001b[0m\n\u001b[1;32m      5\u001b[0m     \u001b[0mturtle_draw\u001b[0m\u001b[0;34m(\u001b[0m\u001b[0;34m)\u001b[0m\u001b[0;34m\u001b[0m\u001b[0m\n",
      "\u001b[0;31mFileNotFoundError\u001b[0m: [Errno 2] No such file or directory: 'alice.txt'"
     ]
    }
   ],
   "source": [
    "filename = input(\"What file?\")\n",
    "print(\"About to open\", filename)\n",
    "with open(filename) as file:\n",
    "    # do something else with the file\n",
    "    turtle_draw()"
   ]
  },
  {
   "cell_type": "code",
   "execution_count": 2,
   "metadata": {
    "collapsed": true
   },
   "outputs": [],
   "source": [
    "names1 = \"John\"\n",
    "names2 = \"Paul\"\n",
    "names3 = \"George\"\n",
    "named4 = \"Ringo\"\n"
   ]
  },
  {
   "cell_type": "code",
   "execution_count": 3,
   "metadata": {},
   "outputs": [
    {
     "name": "stdout",
     "output_type": "stream",
     "text": [
      "Sarah\n"
     ]
    }
   ],
   "source": [
    "names = [\"Sarah\", \"Amit\", \"Zhang\"]\n",
    "\n",
    "# access the element at index 0\n",
    "name_first = names[0]\n",
    "print(name_first)  # Sarah"
   ]
  },
  {
   "cell_type": "code",
   "execution_count": 4,
   "metadata": {},
   "outputs": [
    {
     "data": {
      "text/plain": [
       "['c', 'd']"
      ]
     },
     "execution_count": 4,
     "metadata": {},
     "output_type": "execute_result"
    }
   ],
   "source": [
    "letters = ['a', 'b', 'c', 'd', 'e', 'f']\n",
    "letters[2:-2]"
   ]
  },
  {
   "cell_type": "code",
   "execution_count": 7,
   "metadata": {
    "collapsed": true
   },
   "outputs": [],
   "source": [
    "s = ['a', 'b', 'c', 'd']  # A sample list\n",
    "\n",
    "# Add value to end of list\n",
    "result = s.append('x')  # add 'x' at end"
   ]
  },
  {
   "cell_type": "code",
   "execution_count": 9,
   "metadata": {},
   "outputs": [
    {
     "data": {
      "text/plain": [
       "['a', 'b', 'c', 'd', 'x']"
      ]
     },
     "execution_count": 9,
     "metadata": {},
     "output_type": "execute_result"
    }
   ],
   "source": [
    "s"
   ]
  },
  {
   "cell_type": "code",
   "execution_count": 10,
   "metadata": {
    "collapsed": true
   },
   "outputs": [],
   "source": [
    "list_a = [1,2,3]  # `a` labels a new list [1,2,3]\n",
    "list_b = [1,2,3]  # `b` labels a new list [1,2,3]"
   ]
  },
  {
   "cell_type": "code",
   "execution_count": 11,
   "metadata": {},
   "outputs": [
    {
     "data": {
      "text/plain": [
       "True"
      ]
     },
     "execution_count": 11,
     "metadata": {},
     "output_type": "execute_result"
    }
   ],
   "source": [
    "list_a == list_b"
   ]
  },
  {
   "cell_type": "code",
   "execution_count": 12,
   "metadata": {},
   "outputs": [
    {
     "data": {
      "text/plain": [
       "False"
      ]
     },
     "execution_count": 12,
     "metadata": {},
     "output_type": "execute_result"
    }
   ],
   "source": [
    "list_a is list_b"
   ]
  },
  {
   "cell_type": "code",
   "execution_count": 13,
   "metadata": {
    "collapsed": true
   },
   "outputs": [],
   "source": [
    "list_c = list_a"
   ]
  },
  {
   "cell_type": "code",
   "execution_count": 14,
   "metadata": {
    "collapsed": true
   },
   "outputs": [],
   "source": [
    "list_a[0] = 10"
   ]
  },
  {
   "cell_type": "code",
   "execution_count": 17,
   "metadata": {},
   "outputs": [
    {
     "data": {
      "text/plain": [
       "[1, 2, 3]"
      ]
     },
     "execution_count": 17,
     "metadata": {},
     "output_type": "execute_result"
    }
   ],
   "source": [
    "list_b"
   ]
  },
  {
   "cell_type": "code",
   "execution_count": 18,
   "metadata": {},
   "outputs": [
    {
     "name": "stdout",
     "output_type": "stream",
     "text": [
      "3.98\n",
      "8\n",
      "10.8\n",
      "3.27\n",
      "5.21\n"
     ]
    }
   ],
   "source": [
    "numbers = [3.98, 8, 10.8, 3.27, 5.21]\n",
    "\n",
    "for element in numbers:  # number is a better local var name\n",
    "    print(element)"
   ]
  },
  {
   "cell_type": "code",
   "execution_count": 19,
   "metadata": {},
   "outputs": [
    {
     "name": "stdout",
     "output_type": "stream",
     "text": [
      "3.98\n",
      "8\n",
      "10.8\n",
      "3.27\n",
      "5.21\n",
      "[4.0, 8, 10.8, 3.3, 5.2]\n"
     ]
    }
   ],
   "source": [
    "numbers = [3.98, 8, 10.8, 3.27, 5.21]\n",
    "\n",
    "for i in range(len(numbers)):  # `i` for \"index\"\n",
    "    print(numbers[i])  # refer to elements by index\n",
    "\n",
    "# Can now modify the list\n",
    "for i in range(len(numbers)):\n",
    "    # change value at index to rounded version\n",
    "    numbers[i] = round(numbers[i], 1)\n",
    "\n",
    "print(numbers)  # [4.0, 8, 10.8, 3.3, 5.2], rounded!"
   ]
  },
  {
   "cell_type": "code",
   "execution_count": 25,
   "metadata": {},
   "outputs": [
    {
     "data": {
      "text/plain": [
       "3"
      ]
     },
     "execution_count": 25,
     "metadata": {},
     "output_type": "execute_result"
    }
   ],
   "source": [
    "def count_evens(a_list):\n",
    "    number_evens = 0\n",
    "    \n",
    "    for number in a_list:\n",
    "        # got a number. Need to figure out if even\n",
    "        if number % 2 == 0: # if has no remainder\n",
    "            number_evens = number_evens + 1\n",
    "        \n",
    "    return number_evens\n",
    "\n",
    "\n",
    "count_evens([3,1,4,1,5,9,2,6,5,3,5]) # a_list = [3,1,4,1,5,9,2,6,5,3,5]\n",
    "pi = [3,1,4,1,5,9,2,6,5,3,5]\n",
    "count_evens(pi) # a_list = pi\n",
    "count_evens([1,2,3])  # a_list = [1,2,3]\n",
    "\n",
    "with open(\"a_list.txt\") as my_file:\n",
    "    count_evens(my_file)"
   ]
  },
  {
   "cell_type": "code",
   "execution_count": 30,
   "metadata": {},
   "outputs": [
    {
     "data": {
      "text/plain": [
       "'fish'"
      ]
     },
     "execution_count": 30,
     "metadata": {},
     "output_type": "execute_result"
    }
   ],
   "source": [
    "dinner_options = [\n",
    "    [\"chicken\", \"mashed potatoes\", \"mixed veggies\"],\n",
    "    [\"steak\", \"seasoned potatoes\", \"asparagus\"],\n",
    "    [\"fish\", \"rice\", \"green beans\"],\n",
    "    [\"portobello steak\", \"rice\", \"green beans\"]\n",
    "]\n",
    "\n",
    "len(dinner_options)   # 4\n",
    "fish_option_list = dinner_options[2]  # [\"fish\", \"rice\", \"green beans\"]\n",
    "dinner_options[2][0]"
   ]
  },
  {
   "cell_type": "code",
   "execution_count": null,
   "metadata": {
    "collapsed": true
   },
   "outputs": [],
   "source": [
    "for row in range(len(table)):  # for each row\n",
    "    for col in range(len(table[row]))  # for each col of that row\n",
    "        print(table[row][col])  # access ith row, jth column"
   ]
  }
 ],
 "metadata": {
  "kernelspec": {
   "display_name": "Python 3",
   "language": "python",
   "name": "python3"
  },
  "language_info": {
   "codemirror_mode": {
    "name": "ipython",
    "version": 3
   },
   "file_extension": ".py",
   "mimetype": "text/x-python",
   "name": "python",
   "nbconvert_exporter": "python",
   "pygments_lexer": "ipython3",
   "version": "3.6.1"
  }
 },
 "nbformat": 4,
 "nbformat_minor": 2
}
