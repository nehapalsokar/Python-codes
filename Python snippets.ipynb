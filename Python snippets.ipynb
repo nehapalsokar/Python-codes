{
 "cells": [
  {
   "cell_type": "code",
   "execution_count": 5,
   "metadata": {},
   "outputs": [
    {
     "name": "stdout",
     "output_type": "stream",
     "text": [
      "HelloJoel\n"
     ]
    }
   ],
   "source": [
    "from datetime import date\n",
    "\n",
    "def say_hello_on(name, the_date):\n",
    "    \"\"\"\n",
    "    This function takes in a string and prints\n",
    "    hello to that string\n",
    "    \"\"\"\n",
    "    print(\"Hello\" + name)\n",
    "\n",
    "\n",
    "say_hello_on(\"Joel\", date(2018,4,10))\n"
   ]
  },
  {
   "cell_type": "code",
   "execution_count": 6,
   "metadata": {
    "collapsed": true
   },
   "outputs": [],
   "source": [
    "need_coffee = True"
   ]
  },
  {
   "cell_type": "code",
   "execution_count": 8,
   "metadata": {},
   "outputs": [
    {
     "name": "stdout",
     "output_type": "stream",
     "text": [
      "This porridge is too hot!\n",
      "Time for a nap!\n"
     ]
    }
   ],
   "source": [
    "porridge_temp = 130  # temperature in degrees F\n",
    "\n",
    "if porridge_temp > 120:\n",
    "    print(\"This porridge is too hot!\")\n",
    "else:\n",
    "    print(\"This porridge is NOT too hot!\")\n",
    "\n",
    "too_cold = porridge_temp < 70  # a boolean variable\n",
    "if too_cold:\n",
    "    print(\"This porridge is too cold!\")\n",
    "\n",
    "# This line is outside the block, so is not part of \n",
    "# the conditional (it will always be executed)\n",
    "print(\"Time for a nap!\")"
   ]
  },
  {
   "cell_type": "code",
   "execution_count": 10,
   "metadata": {},
   "outputs": [
    {
     "name": "stdout",
     "output_type": "stream",
     "text": [
      "is not raining\n"
     ]
    }
   ],
   "source": [
    "is_raining = False\n",
    "if is_raining:\n",
    "    print(\"is raining\")\n",
    "else:\n",
    "    print(\"is not raining\")"
   ]
  },
  {
   "cell_type": "code",
   "execution_count": null,
   "metadata": {
    "collapsed": true
   },
   "outputs": [],
   "source": []
  }
 ],
 "metadata": {
  "kernelspec": {
   "display_name": "Python 3",
   "language": "python",
   "name": "python3"
  },
  "language_info": {
   "codemirror_mode": {
    "name": "ipython",
    "version": 3
   },
   "file_extension": ".py",
   "mimetype": "text/x-python",
   "name": "python",
   "nbconvert_exporter": "python",
   "pygments_lexer": "ipython3",
   "version": "3.6.1"
  }
 },
 "nbformat": 4,
 "nbformat_minor": 2
}
